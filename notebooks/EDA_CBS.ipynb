{
 "cells": [
  {
   "cell_type": "markdown",
   "metadata": {},
   "source": [
    "# Notities\n",
    "\n",
    "## Handige links\n",
    "* [Statline portaal](https://opendata.cbs.nl/statline/portal.html?_la=nl&_catalog=CBS)\n",
    "* [Snelstartgids open data](https://www.cbs.nl/nl-nl/onze-diensten/open-data/statline-als-open-data/snelstartgids)\n",
    "* [repo Github voor cbsodata](https://github.com/J535D165/cbsodata)\n",
    "* [PyPi documentatis cbsodata](https://pypi.org/project/cbsodata/)\n",
    "* [Sphinx docs cbsodata](https://cbsodata.readthedocs.io/en/latest/index.html)\n",
    "* [GitHub voorbeelden OData 3](https://github.com/statistiekcbs/CBS-Open-Data-v3)\n",
    "* [GitHub voorbeelden OData 4](https://github.com/statistiekcbs/CBS-Open-Data-v4/tree/master/Python)\n",
    "* [Statline voor derden](https://www.cbs.nl/nl-nl/cijfers/statline/statline-voor-derden)\n",
    "* [CBS open data Statline](https://opendata.cbs.nl/statline/portal.html?_la=nl&_catalog=CBS)\n",
    "* [PDOK Viewer: Kies bij dataset voor CBS gebiedsindelingen (wijken staan helemaal onderaan) voor kaartweergave](https://www.pdok.nl/viewer/)"
   ]
  },
  {
   "cell_type": "markdown",
   "metadata": {},
   "source": [
    "# Imports"
   ]
  },
  {
   "cell_type": "code",
   "execution_count": null,
   "metadata": {},
   "outputs": [],
   "source": [
    "import pandas as pd\n",
    "import cbsodata\n",
    "\n",
    "pd.set_option('display.max_rows', 500)\n",
    "pd.set_option('display.max_columns', 500)\n",
    "pd.set_option('display.width', 1000)"
   ]
  },
  {
   "cell_type": "markdown",
   "metadata": {},
   "source": [
    "# Settings"
   ]
  },
  {
   "cell_type": "code",
   "execution_count": null,
   "metadata": {},
   "outputs": [],
   "source": [
    "GEMEENTES_REGIO_NIJMEGEN = ['Berg en Dal', 'Beuningen', 'Druten', 'Heumen', 'Mook en Middelaar', 'Nijmegen', 'Wijchen']\n",
    "\n",
    "KEYWORDS = ['wmo', 'gemeente', 'regio', 'postcode', 'zorg', 'werk', 'lonen', 'loon', 'inkomen', 'conjunctuur', \n",
    "            'prognose', 'afstand', 'wijk', 'voorziening', 'genees', 'gezond']\n",
    "URLS = ['opendata.cbs.nl', 'dataderden.cbs.nl']\n",
    "\n",
    "CBS_OPEN_URL = 'opendata.cbs.nl'\n",
    "WMO_TABLES = {'2020': '84907NED',\n",
    "            '2019': '84664NED',\n",
    "            '2018': '84421NED',\n",
    "            '2017': '83818NED',\n",
    "            '2016': '83620NED',\n",
    "            '2015': '83267NED'}\n",
    "WIJK_TABLES = {'2020': '84799NED', \n",
    "               '2019': '84583NED', \n",
    "               '2018': '84286NED', \n",
    "               '2017': '83765NED', \n",
    "               '2016': '83487NED', \n",
    "               '2015': '83220NED', \n",
    "               '2014': '82931NED'}"
   ]
  },
  {
   "cell_type": "markdown",
   "metadata": {},
   "source": [
    "# Functies"
   ]
  },
  {
   "cell_type": "code",
   "execution_count": null,
   "metadata": {},
   "outputs": [],
   "source": [
    "def get_relevant_tables(url:str, \n",
    "                        keywords=[], \n",
    "                        frequency=['Eenmalig', 'Perjaar', 'Perkwartaal', 'Onregelmatig', 'Permaand', 'Pertweejaar', 'Perhalfjaar', 'Tweemaalperjaar'], \n",
    "                        select_columns=['ApiUrl','Identifier', 'ShortTitle','ColumnCount', 'RecordCount', 'Updated', 'Period', 'Summary', 'Frequency', 'ShortDescription', 'ExplanatoryText']):\n",
    "    \"\"\"\n",
    "    Method to get relevant tables in the CBS database based on keywords in the title\n",
    "    \n",
    "    :params str url: URL of the catalog of the CBS databases, i.e.: 'opendata.cbs.nl'\n",
    "    :params list[str] keywords: List of words to search for in the title.\n",
    "    :params list[str] frequency: List of frequencies (level of accuracy in the data) where tables should be returned.\n",
    "    :select_columns list[str] select_columns: Columns that should be included in the returned database. \n",
    "    \"\"\"\n",
    "    tables_list = cbsodata.get_table_list(catalog_url=url)\n",
    "    df_tables = pd.DataFrame(tables_list)\n",
    "    print(f\"Total number of tables in this url is: {df_tables.shape[0]}\")\n",
    "    print(f\"The columns in these tables are: {df_tables.columns}\")\n",
    "    total_identifier_list = []\n",
    "    for keyword in keywords:\n",
    "        identifier_list = [i['Identifier'] for i in tables_list if keyword.lower() in i['Title'].lower()]\n",
    "        total_identifier_list = total_identifier_list + identifier_list\n",
    "    columns_to_include = list(set(select_columns).intersection(df_tables.columns))\n",
    "    df = df_tables[(df_tables['Identifier'].isin(total_identifier_list))&(df_tables['Frequency'].isin(frequency))][columns_to_include]\n",
    "    return df\n",
    "\n",
    "def get_and_combine_cbs_tables(dict_tables, url='opendata.cbs.nl'):\n",
    "    \"\"\"\n",
    "    Method to get multiple simular tables in the CBS database.\n",
    "    \n",
    "    :params dict[str, str] tables: Dictionary with as key the period and as value the table name\n",
    "    :params str url: URL of the catalog of the CBS databases, i.e.: 'opendata.cbs.nl'\n",
    "    returns: pd.DataFrame\n",
    "    \"\"\"\n",
    "\n",
    "    print(f\"Number of tables to collect: {len(dict_tables)}\")\n",
    "    \n",
    "    df= pd.DataFrame()\n",
    "    for interval, table in dict_tables.items():\n",
    "        print(f\"Pythonic iteration {interval} for table {table}\")\n",
    "        try:\n",
    "            df_sub = pd.DataFrame(cbsodata.get_data(table, catalog_url=url))\n",
    "            df_sub['interval'] = interval\n",
    "        except Exception:\n",
    "            df_sub = pd.DataFrame()\n",
    "            pass\n",
    "        df = pd.concat([df, df_sub])\n",
    "    return df\n",
    "\n",
    "def rename_and_subset_cols(df, dict_rename, list_cols, include=True):\n",
    "    \n",
    "    df = df.rename(columns=dict_rename)\n",
    "    if include:\n",
    "        df = df[list_cols]\n",
    "    else:\n",
    "        df = df.drop(list_cols, axis=1)\n",
    "    \n",
    "    return df\n",
    "\n",
    "def get_wmo_subtable(df, region=None, period=None, form=None):\n",
    "    \"\"\"\n",
    "    Method to subset the dataframe with WMO data.\n",
    "    \n",
    "    :params pd.DataFrame df: DataFrame with the WMO data from CBS with the columns: \n",
    "                            [['codering_regio', 'perioden', 'financieringsvorm', 'wmoclienten', 'wmoclientenper1000inwoners']]\n",
    "    :params str region: String to choose region. Possible strings are: \"gemeente\", \"wijk\"\n",
    "    :params str period: String to choose period. Possible strings are: \"jaar\", \"halfjaar\" \n",
    "    :params str form: String to choose form of financing. Possible strings are: \"totaal\", \"per type\"\n",
    "    returns: pd.DataFrame\n",
    "    \"\"\"\n",
    "    \n",
    "    if region == \"gemeente\":\n",
    "        df = df[df.codering_regio.str.startswith('GM', na=False)]\n",
    "    if region == \"wijk\":\n",
    "        df = df[df.codering_regio.str.startswith('WK', na=False)]\n",
    "    if region == \"buurt\":\n",
    "        df = df[df.codering_regio.str.startswith('BU', na=False)]\n",
    "    if period == \"jaar\":\n",
    "        df = df[~df.perioden.str.contains(\"halfjaar\", na=False)]\n",
    "    if period == \"halfjaar\":\n",
    "        df = df[df.perioden.str.contains(\"halfjaar\", na=False)]\n",
    "    if form == \"totaal\":\n",
    "        df = df[df.financieringsvorm == \"Totaal\"]\n",
    "    if form == \"per type\":\n",
    "        df = df[df.financieringsvorm != \"Totaal\"]\n",
    "    \n",
    "    return df\n",
    "\n",
    "def downcast_variables_dataframe(df):\n",
    "    # Downcast dataset\n",
    "    df[df.select_dtypes(include='object').columns] = df.select_dtypes(include='object').astype('category')\n",
    "\n",
    "    for old, new in [('integer', 'unsigned'), ('float', 'float')]:\n",
    "        for col in df.select_dtypes(include=old).columns:\n",
    "            df[col] = pd.to_numeric(df[col], downcast=new)\n",
    "    return df"
   ]
  },
  {
   "cell_type": "markdown",
   "metadata": {},
   "source": [
    "# Explore possible tables"
   ]
  },
  {
   "cell_type": "code",
   "execution_count": null,
   "metadata": {},
   "outputs": [],
   "source": [
    "# General table list\n",
    "toc = pd.DataFrame(cbsodata.get_table_list())\n",
    "print(f\"Shape of all tables: {toc.shape[0]}\")\n",
    "toc.sample(5)"
   ]
  },
  {
   "cell_type": "code",
   "execution_count": null,
   "metadata": {},
   "outputs": [],
   "source": [
    "toc[toc['Identifier'] =='84721NED']"
   ]
  },
  {
   "cell_type": "code",
   "execution_count": null,
   "metadata": {},
   "outputs": [],
   "source": [
    "# URL = 'opendata.cbs.nl'\n",
    "df_tables_cbs_opendata = get_relevant_tables(url='opendata.cbs.nl', \n",
    "                                             keywords=KEYWORDS)\n",
    "print(f\"Shape of all tables: {df_tables_cbs_opendata.shape}\")\n",
    "df_tables_cbs_opendata.sample(5)"
   ]
  },
  {
   "cell_type": "code",
   "execution_count": null,
   "metadata": {},
   "outputs": [],
   "source": [
    "# URL = 'dataderden.cbs.nl'\n",
    "df_tables_cbs_derden = get_relevant_tables(url='dataderden.cbs.nl', \n",
    "                                             keywords=KEYWORDS)\n",
    "print(f\"Shape of all tables: {df_tables_cbs_derden.shape}\")\n",
    "df_tables_cbs_derden.sample(5)"
   ]
  },
  {
   "cell_type": "code",
   "execution_count": null,
   "metadata": {},
   "outputs": [],
   "source": [
    "## Possible code to export possible tables, didn't get that much result\n",
    "\n",
    "# df_tables_cbs = pd.concat([df_tables_cbs_opendata, df_tables_cbs_derden])\n",
    "# df_tables_cbs.to_csv('df_tables_cbs.csv')\n",
    "# df_tables_cbs.shape"
   ]
  },
  {
   "cell_type": "markdown",
   "metadata": {},
   "source": [
    "# Load data"
   ]
  },
  {
   "cell_type": "code",
   "execution_count": null,
   "metadata": {},
   "outputs": [],
   "source": [
    "%%time\n",
    "# Get WMO\n",
    "df_wmo = get_and_combine_cbs_tables(dict_tables=WMO_TABLES, url=CBS_OPEN_URL)\n",
    "df_wmo_sub = rename_and_subset_cols(df=df_wmo, \n",
    "                                    dict_rename={\"Codering_3\": \"codering_regio\", \"Perioden\":\"perioden\", \"Financieringsvorm\":\"financieringsvorm\", \"WmoClienten_5\":\"wmoclienten\", \"WmoClientenPer1000Inwoners_6\":\"wmoclientenper1000inwoners\"}, \n",
    "                                    list_cols=['interval', 'codering_regio', 'perioden', 'financieringsvorm', 'wmoclienten', 'wmoclientenper1000inwoners'])\n",
    "\n",
    "# df_wmo_total\n",
    "df_wmo_total = get_wmo_subtable(df=df_wmo_sub, region=\"wijk\", period=\"jaar\", form=\"totaal\")\n",
    "# df_wmo_total['gemeentenaam'] = df_wmo_total['gemeentenaam'].str.strip()\n",
    "df_wmo_total = downcast_variables_dataframe(df_wmo_total)\n",
    "df_wmo_total = df_wmo_total.set_index(['codering_regio', 'perioden'])\n",
    "df_wmo_total = df_wmo_total.drop(['interval'], axis=1)\n",
    "df_wmo_total.sample(5)"
   ]
  },
  {
   "cell_type": "code",
   "execution_count": null,
   "metadata": {},
   "outputs": [],
   "source": [
    "%%time\n",
    "# Get Wijkdata\n",
    "WIJK_TABLES = {'2020': '84799NED', \n",
    "               '2019': '84583NED', \n",
    "               '2018': '84286NED', \n",
    "               '2017': '83765NED', \n",
    "               '2016': '83487NED', \n",
    "               '2015': '83220NED', \n",
    "               '2014': '82931NED'}\n",
    "\n",
    "df_wijk = get_and_combine_cbs_tables(dict_tables=WIJK_TABLES, url=CBS_OPEN_URL)\n",
    "# cols_wijk_stripped = [i.rstrip('0123456789').replace(\"_\", \"\").lower() for i in list(df_wijk.columns)]\n",
    "# dict_wijk_cols_renamed = {key: value for key, value in zip(iter(df_wijk.columns), iter(cols_wijk_stripped))}\n",
    "dict_wijk_cols_renamed = {'ID': 'id',\n",
    "                          'WijkenEnBuurten': 'wijkenenbuurten',\n",
    "                          'Gemeentenaam_1': 'gemeentenaam',\n",
    "                          'SoortRegio_2': 'soortregio',\n",
    "                          'IndelingswijzigingWijkenEnBuurten_4':'indelingswijzigingwijkenenbuurten',\n",
    "                          'Codering_3':'codering_regio', \n",
    "                          'interval':'perioden'}\n",
    "df_wijk_sub = rename_and_subset_cols(df=df_wijk, \n",
    "                                     dict_rename=dict_wijk_cols_renamed, \n",
    "                                     list_cols=['id', 'wijkenenbuurten', 'soortregio', 'indelingswijzigingwijkenenbuurten'], \n",
    "                                     include=False)\n",
    "# df_wijk_sub = df_wijk_sub.rename(columns={'codering':'codering_regio', 'interval':'perioden'})\n",
    "# df_wijk_sub['codering_regio'] = df_wijk_sub['codering_regio'].apply(lambda x: x.strip())\n",
    "df_wijk_sub['codering_regio'] = df_wijk_sub['codering_regio'].str.strip()\n",
    "df_wijk_sub['gemeentenaam'] = df_wijk_sub['gemeentenaam'].str.strip()\n",
    "df_wijk_total = df_wijk_sub[df_wijk_sub.codering_regio.str.startswith('WK', na=False)]\n",
    "# df_wijk_total = downcast_variables_dataframe(df_wijk_sub) # krijg value error... snap het niet... \n",
    "df_wijk_total = df_wijk_total.set_index(['codering_regio', 'perioden'])\n",
    "df_wijk_total.sample(5)"
   ]
  },
  {
   "cell_type": "code",
   "execution_count": null,
   "metadata": {
    "scrolled": true
   },
   "outputs": [],
   "source": [
    "df_dataset_WMO = pd.merge(df_wmo_total, df_wijk_total, how='inner', left_index=True, right_index=True)\n",
    "df_dataset_WMO.sample(5)"
   ]
  },
  {
   "cell_type": "markdown",
   "metadata": {},
   "source": [
    "## Write & read dataset"
   ]
  },
  {
   "cell_type": "code",
   "execution_count": null,
   "metadata": {},
   "outputs": [],
   "source": [
    "df_dataset_WMO.to_parquet('../data/df_dataset_WMO.parquet.gzip',\n",
    "              compression='gzip')"
   ]
  },
  {
   "cell_type": "markdown",
   "metadata": {},
   "source": [
    "### read dataset (if cbsodata isn't working using cbsodata)"
   ]
  },
  {
   "cell_type": "code",
   "execution_count": null,
   "metadata": {},
   "outputs": [],
   "source": [
    "df_inlezen = pd.read_parquet('../data/df_dataset_WMO.parquet.gzip')\n",
    "print(f\"Shape of dataset: {df_inlezen.shape}\")\n",
    "df_inlezen.sample(5)"
   ]
  },
  {
   "cell_type": "markdown",
   "metadata": {},
   "source": [
    "## Ways to get a subset of the DataFrame:"
   ]
  },
  {
   "cell_type": "code",
   "execution_count": null,
   "metadata": {},
   "outputs": [],
   "source": [
    "# Subset on columnvalue:\n",
    "df_dataset_WMO[df_dataset_WMO['gemeentenaam']=='Nijmegen']\n",
    "\n",
    "# One row / record\n",
    "df_dataset_WMO.loc[('WK026801', '2019')]\n",
    "\n",
    "# Multiple rows / records based on combination of the multiindex\n",
    "df_dataset_WMO.loc[[('WK026801', '2018'), ('WK026802', '2018')]]\n",
    "\n",
    "# Multiple rows / records for one column (works only for series)\n",
    "df_dataset_WMO['gemeentenaam'].loc[(['WK026801', 'WK026802'], ['2018', '2019'])]\n",
    "\n",
    "# Multiple rows based on both indexes:\n",
    "df_dataset_WMO.loc(axis=0)[['WK026801', 'WK026802'], ['2018', '2019']]\n",
    "\n",
    "# Subset with IndexSlice\n",
    "idx = pd.IndexSlice\n",
    "# Subset on one of the multiindex and select a column\n",
    "df_dataset_WMO.loc[idx[:, ['2018', '2019']], idx[\"gemeentenaam\"]]\n",
    "# Subset on one of the multiindex and select all columns\n",
    "df_dataset_WMO.loc[idx['WK026801', :], idx[:]]"
   ]
  },
  {
   "cell_type": "code",
   "execution_count": null,
   "metadata": {},
   "outputs": [],
   "source": [
    "df_dataset_WMO[df_dataset_WMO['gemeentenaam']=='Nijmegen']"
   ]
  },
  {
   "cell_type": "markdown",
   "metadata": {},
   "source": [
    "## EDA data"
   ]
  },
  {
   "cell_type": "code",
   "execution_count": null,
   "metadata": {},
   "outputs": [],
   "source": []
  },
  {
   "cell_type": "code",
   "execution_count": null,
   "metadata": {},
   "outputs": [],
   "source": []
  },
  {
   "cell_type": "code",
   "execution_count": null,
   "metadata": {},
   "outputs": [],
   "source": []
  },
  {
   "cell_type": "code",
   "execution_count": null,
   "metadata": {},
   "outputs": [],
   "source": []
  },
  {
   "cell_type": "code",
   "execution_count": null,
   "metadata": {},
   "outputs": [],
   "source": []
  },
  {
   "cell_type": "code",
   "execution_count": null,
   "metadata": {},
   "outputs": [],
   "source": []
  },
  {
   "cell_type": "code",
   "execution_count": null,
   "metadata": {},
   "outputs": [],
   "source": []
  },
  {
   "cell_type": "code",
   "execution_count": null,
   "metadata": {},
   "outputs": [],
   "source": []
  },
  {
   "cell_type": "code",
   "execution_count": null,
   "metadata": {},
   "outputs": [],
   "source": []
  },
  {
   "cell_type": "code",
   "execution_count": null,
   "metadata": {},
   "outputs": [],
   "source": []
  },
  {
   "cell_type": "code",
   "execution_count": null,
   "metadata": {},
   "outputs": [],
   "source": []
  },
  {
   "cell_type": "code",
   "execution_count": null,
   "metadata": {},
   "outputs": [],
   "source": []
  },
  {
   "cell_type": "markdown",
   "metadata": {},
   "source": [
    "# Klad"
   ]
  },
  {
   "cell_type": "code",
   "execution_count": null,
   "metadata": {},
   "outputs": [],
   "source": [
    "# # DRAAIT LANG ALS JE ALLES OPVRAAGT\n",
    "# url = 'dataderden.cbs.nl'\n",
    "# df_to_collect = df_tables_cbs_derden\n",
    "# dict_cbs_tables = {}\n",
    "# for i in df_to_collect['Identifier'][:2]:\n",
    "#     print(i)\n",
    "#     try:\n",
    "#         df = pd.DataFrame(cbsodata.get_data(str(i), catalog_url=url))\n",
    "#     except Exception:\n",
    "#         df = pd.DataFrame()\n",
    "#         pass\n",
    "#     dict_cbs_tables[i] = df\n",
    "# dict_cbs_tables['40072NED'].sample(10)"
   ]
  },
  {
   "cell_type": "code",
   "execution_count": null,
   "metadata": {},
   "outputs": [],
   "source": []
  },
  {
   "cell_type": "code",
   "execution_count": null,
   "metadata": {},
   "outputs": [],
   "source": [
    "# # Eerste lijst met mogelijke tabellen\n",
    "# dict_tables = {'regio-indeling 2021': '84929NED',\n",
    "#                'regio-indeling 2020':'84721NED', \n",
    "#                'regio-indeling 2019':'84378NED', \n",
    "#                'regio-indeling 2018':'83859NED', \n",
    "#                'regio-indeling 2017':'83553NED', \n",
    "#                'regio-indeling 2016':'83287NED',\n",
    "#                 'Bevolking; geslacht, leeftijd, regio': '37259ned',\n",
    "#                 'Huishoudens; samenstelling, regio': '71486ned',\n",
    "#                 'Personen; afstand tot ouder, 2014': '83246NED',\n",
    "#                 'Bevolking; nationaliteit en regio' : '84727NED',\n",
    "#                 'Bevolking; leeftijd, regio, 2020-2050': '84525NED',\n",
    "#                 'Bevolkingsontwikkeling, regio, 2020-2050': '84528NED',\n",
    "#                 'doodsoorzaken':'80202ned',\n",
    "#                 'Geneesmiddelen; regio (gemeente)': '83251NED',\n",
    "#                 'DBC-GGZ; personen per diagnose; regio': '84859NED',\n",
    "#                 'Indicatoren jeugdzorg; gemeenten': '82972NED',\n",
    "#                 'Jeugdzorgcombinaties': '84136NED',\n",
    "#                 'Jongeren met jeugdzorg; pers. kenmerken':'84135NED',\n",
    "#                 'Trajecten jeugdzorg; regio, peildatum': '82968NED',\n",
    "#                 'Gemeentelijke kosten; jeugdzorg, regio': '83454NED',\n",
    "#                 'Wmo-cliënten; financiering, wijken, 2020': '84907NED',\n",
    "#                 'Wmo-cliënten; financiering, wijken, 2019': '84664NED',\n",
    "#                 'Wmo-cliënten; financiering, wijken, 2018': '84421NED',\n",
    "#                 'Wmo-cliënten; financiering, wijken, 2017': '83818NED',\n",
    "#                 'Wmo-cliënten; financiering, wijken 2016': '83620NED',\n",
    "#                 'Wmo-cliënten; financiering, wijken 2015':'83267NED',\n",
    "#                 'Wmo_cliënten; type, wijken, 2020': '84908NED',\n",
    "#                 'Wmo-cliënten; type maatwerk, wijken 2019': '84753NED',\n",
    "#                 'Wmo-cliënten; type maatwerk, wijken 2018': '84752NED',\n",
    "#                 'Wmo-cliënten; type maatwerk, wijken 2017': '84751NED',\n",
    "#                 'Inkomsten eigen bijdr. Wmo-maatwerkvoorz': '84578NED',\n",
    "#                 'Uitgaven Wmo-maatwerkvoorz.; type, regio': '84580NED',\n",
    "#                 'Wmo-cliënten die instromen in Wlz 2019': '84812NED',\n",
    "#                 'Wmo-cliënten die instromen in Wlz 2018': '84599NED',\n",
    "#                 'Wmo-cliënten die instromen in Wlz 2017': '84579NED',\n",
    "#                 'Wmo-arrangementen; stand, regio': '83268NED',\n",
    "#                 'Wmo-cliënten; reden beëindiging, regio': '83266NED',\n",
    "#                 'Wmo-cliënten; type arrangement, regio':'83262NED',\n",
    "#                 'Wmo-cliënten; type maatwerk; regio': '84839NED',\n",
    "#                 'Wmo-gebruik; aantal arrangementen, regio': '83264NED',\n",
    "#                 'Stapeling Sociaal Domein, 2020': '84906NED',\n",
    "#                 'Gebruik voorz sociaal dom; wijken, 2019': '84662NED',\n",
    "#                 'Gebr voorz sociaal domein; wijken, 2018': '84420NED',\n",
    "#                 'Gebr voorz sociaal domein; wijken, 2017': '83817NED',\n",
    "#                 'Gebr voorz sociaal domein; wijken 2016': '83619NED',\n",
    "#                 'Inkomen huishoudens; kenmerken, regio': '84866NED',\n",
    "#                 'Kerncijfers begrot. heffing per gemeente': '83643NED',\n",
    "#                 'Gemeenterek.; taakvelden groottekl regio': '84413NED',\n",
    "#                 'Gem.rekening; balans regio grootteklasse': '71231ned'}"
   ]
  },
  {
   "cell_type": "code",
   "execution_count": null,
   "metadata": {},
   "outputs": [],
   "source": [
    "# # Crasht wegens memory problemen\n",
    "# df_meta = pd.DataFrame()\n",
    "# for table in dict_tables.values():\n",
    "#     df = pd.DataFrame(cbsodata.get_data(table, catalog_url=url))\n",
    "#     if 'RegioS' in df.columns:\n",
    "#         regios = df.RegioS.unique()\n",
    "#     else:\n",
    "#         regios = \"NOTPRESENT\"\n",
    "#     if 'Periode' in df.columns:\n",
    "#         periode = df.Periode.unique()\n",
    "#     elif 'Perioden' in df.columns:\n",
    "#         periode = df.Perioden.unique()\n",
    "#     else:\n",
    "#         periode = \"NOTPRESENT\"\n",
    "#     df.to_csv(f\"{table}.csv\")\n",
    "#     df_meta = df_meta.append({'table':table, 'regios':regios, 'periode':periode}, ignore_index=True)\n",
    "# df_meta.to_csv('df_meta_long.csv', sep=';')"
   ]
  },
  {
   "cell_type": "code",
   "execution_count": null,
   "metadata": {},
   "outputs": [],
   "source": [
    "# # Get meta data\n",
    "# table = '84727NED'\n",
    "# print(cbsodata.get_info(table)['ShortDescription'])\n",
    "# meta_data = pd.DataFrame(cbsodata.get_meta(table, \"DataProperties\"))\n",
    "# meta_data.head(10)"
   ]
  },
  {
   "cell_type": "code",
   "execution_count": null,
   "metadata": {},
   "outputs": [],
   "source": [
    "# # tabel te groot\n",
    "# table = '84727NED'\n",
    "# df = pd.DataFrame(cbsodata.get_data(table, catalog_url=url))"
   ]
  },
  {
   "cell_type": "code",
   "execution_count": null,
   "metadata": {},
   "outputs": [],
   "source": []
  },
  {
   "cell_type": "code",
   "execution_count": null,
   "metadata": {},
   "outputs": [],
   "source": []
  }
 ],
 "metadata": {
  "kernelspec": {
   "display_name": "Python [conda env:ames-env]",
   "language": "python",
   "name": "conda-env-ames-env-py"
  },
  "language_info": {
   "codemirror_mode": {
    "name": "ipython",
    "version": 3
   },
   "file_extension": ".py",
   "mimetype": "text/x-python",
   "name": "python",
   "nbconvert_exporter": "python",
   "pygments_lexer": "ipython3",
   "version": "3.7.9"
  },
  "toc": {
   "base_numbering": 1,
   "nav_menu": {},
   "number_sections": true,
   "sideBar": true,
   "skip_h1_title": false,
   "title_cell": "Table of Contents",
   "title_sidebar": "Contents",
   "toc_cell": false,
   "toc_position": {},
   "toc_section_display": true,
   "toc_window_display": false
  }
 },
 "nbformat": 4,
 "nbformat_minor": 4
}
