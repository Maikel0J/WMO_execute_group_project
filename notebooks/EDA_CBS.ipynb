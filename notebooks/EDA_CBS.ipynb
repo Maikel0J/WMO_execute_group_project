{
 "cells": [
  {
   "cell_type": "markdown",
   "metadata": {},
   "source": [
    "# Notities\n",
    "\n",
    "## Handige links\n",
    "* [Statline portaal](https://opendata.cbs.nl/statline/portal.html?_la=nl&_catalog=CBS)\n",
    "* [Snelstartgids open data](https://www.cbs.nl/nl-nl/onze-diensten/open-data/statline-als-open-data/snelstartgids)\n",
    "* [repo Github voor cbsodata](https://github.com/J535D165/cbsodata)\n",
    "* [PyPi documentatis cbsodata](https://pypi.org/project/cbsodata/)\n",
    "* [Sphinx docs cbsodata](https://cbsodata.readthedocs.io/en/latest/index.html)\n",
    "* [GitHub voorbeelden OData 3](https://github.com/statistiekcbs/CBS-Open-Data-v3)\n",
    "* [GitHub voorbeelden OData 4](https://github.com/statistiekcbs/CBS-Open-Data-v4/tree/master/Python)\n",
    "* [Statline voor derden](https://www.cbs.nl/nl-nl/cijfers/statline/statline-voor-derden)"
   ]
  },
  {
   "cell_type": "markdown",
   "metadata": {},
   "source": [
    "# Imports"
   ]
  },
  {
   "cell_type": "code",
   "execution_count": null,
   "metadata": {},
   "outputs": [],
   "source": [
    "import pandas as pd\n",
    "import cbsodata"
   ]
  },
  {
   "cell_type": "markdown",
   "metadata": {},
   "source": [
    "# Functies"
   ]
  },
  {
   "cell_type": "code",
   "execution_count": null,
   "metadata": {},
   "outputs": [],
   "source": [
    "def get_relevant_tables(url:str, \n",
    "                        keywords=[], \n",
    "                        frequency=['Eenmalig', 'Perjaar', 'Perkwartaal', 'Onregelmatig', 'Permaand', 'Pertweejaar', 'Perhalfjaar', 'Tweemaalperjaar'], \n",
    "                        select_columns=['Identifier', 'ShortTitle','ColumnCount', 'RecordCount', 'Updated', 'Period', 'Summary', 'Frequency', 'ShortDescription', 'ExplanatoryText']):\n",
    "    \"\"\"\n",
    "    Method to get relevant tables in the CBS database based on keywords in the title\n",
    "    \n",
    "    :params str url: URL of the catalog of the CBS databases, i.e.: 'opendata.cbs.nl'\n",
    "    :params list[str] keywords: List of words to search for in the title.\n",
    "    :params list[str] frequency: List of frequencies (level of accuracy in the data) where tables should be returned.\n",
    "    :select_columns list[str] select_columns: Columns that should be included in the returned database. \n",
    "    \"\"\"\n",
    "    tables_list = cbsodata.get_table_list(catalog_url=url)\n",
    "    df_tables = pd.DataFrame(tables_list)\n",
    "    print(f\"Total number of tables in this url is: {df_tables.shape[0]}\")\n",
    "    print(f\"The columns in these tables are: {df_tables.columns}\")\n",
    "    total_identifier_list = []\n",
    "    for keyword in keywords:\n",
    "        identifier_list = [i['Identifier'] for i in tables_list if keyword.lower() in i['Title'].lower()]\n",
    "        total_identifier_list = total_identifier_list + identifier_list\n",
    "    columns_to_include = list(set(select_columns).intersection(df_tables.columns))\n",
    "    df = df_tables[(df_tables['Identifier'].isin(total_identifier_list))&(df_tables['Frequency'].isin(frequency))][columns_to_include]\n",
    "    return df"
   ]
  },
  {
   "cell_type": "markdown",
   "metadata": {},
   "source": [
    "# Explore possible tables"
   ]
  },
  {
   "cell_type": "code",
   "execution_count": null,
   "metadata": {},
   "outputs": [],
   "source": [
    "toc = pd.DataFrame(cbsodata.get_table_list())"
   ]
  },
  {
   "cell_type": "code",
   "execution_count": null,
   "metadata": {},
   "outputs": [],
   "source": [
    "toc.shape[0]"
   ]
  },
  {
   "cell_type": "markdown",
   "metadata": {},
   "source": [
    "## URL = 'opendata.cbs.nl'"
   ]
  },
  {
   "cell_type": "code",
   "execution_count": null,
   "metadata": {},
   "outputs": [],
   "source": [
    "df_tables_cbs_opendata = get_relevant_tables(url='opendata.cbs.nl', \n",
    "                                             keywords=['wmo', 'bevolking', 'gemeente', 'wijk'])\n",
    "df_tables_cbs_opendata.shape"
   ]
  },
  {
   "cell_type": "code",
   "execution_count": null,
   "metadata": {},
   "outputs": [],
   "source": [
    "df_tables_cbs_opendata.sample(5)"
   ]
  },
  {
   "cell_type": "markdown",
   "metadata": {},
   "source": [
    "## URL = 'dataderden.cbs.nl'"
   ]
  },
  {
   "cell_type": "code",
   "execution_count": null,
   "metadata": {},
   "outputs": [],
   "source": [
    "df_tables_cbs_derden = get_relevant_tables(url='dataderden.cbs.nl', \n",
    "                                             keywords=['wmo'])\n",
    "df_tables_cbs_derden"
   ]
  },
  {
   "cell_type": "markdown",
   "metadata": {},
   "source": [
    "# Load data"
   ]
  },
  {
   "cell_type": "code",
   "execution_count": null,
   "metadata": {},
   "outputs": [],
   "source": [
    "# DRAAIT LANG ALS JE ALLES OPVRAAGT\n",
    "url = 'dataderden.cbs.nl'\n",
    "df_to_collect = df_tables_cbs_derden\n",
    "dict_cbs_tables = {}\n",
    "for i in df_to_collect['Identifier'][:2]:\n",
    "    print(i)\n",
    "    try:\n",
    "        df = pd.DataFrame(cbsodata.get_data(str(i), catalog_url=url))\n",
    "    except Exception:\n",
    "        df = pd.DataFrame()\n",
    "        pass\n",
    "    dict_cbs_tables[i] = df"
   ]
  },
  {
   "cell_type": "code",
   "execution_count": null,
   "metadata": {},
   "outputs": [],
   "source": [
    "dict_cbs_tables['40072NED'].sample(10)"
   ]
  },
  {
   "cell_type": "code",
   "execution_count": null,
   "metadata": {},
   "outputs": [],
   "source": []
  },
  {
   "cell_type": "code",
   "execution_count": null,
   "metadata": {},
   "outputs": [],
   "source": []
  }
 ],
 "metadata": {
  "kernelspec": {
   "display_name": "Python 3",
   "language": "python",
   "name": "python3"
  },
  "language_info": {
   "codemirror_mode": {
    "name": "ipython",
    "version": 3
   },
   "file_extension": ".py",
   "mimetype": "text/x-python",
   "name": "python",
   "nbconvert_exporter": "python",
   "pygments_lexer": "ipython3",
   "version": "3.7.3"
  },
  "toc": {
   "base_numbering": 1,
   "nav_menu": {},
   "number_sections": true,
   "sideBar": true,
   "skip_h1_title": false,
   "title_cell": "Table of Contents",
   "title_sidebar": "Contents",
   "toc_cell": false,
   "toc_position": {},
   "toc_section_display": true,
   "toc_window_display": false
  }
 },
 "nbformat": 4,
 "nbformat_minor": 4
}
