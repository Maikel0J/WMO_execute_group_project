{
 "cells": [
  {
   "cell_type": "markdown",
   "metadata": {},
   "source": [
    "# PDOK\n",
    "\n",
    "* [Restful-api BAG](https://www.pdok.nl/restful-api/-/article/basisregistratie-adressen-en-gebouwen-ba-1#)\n",
    "* [Python voorbeeld kadastrale kaart](https://geoforum.nl/t/kadastrale-kaart-amsterdam-downloaden-met-python/4276/5)\n",
    "* [Kwetsbare objecten](https://www.nationaalgeoregister.nl/geonetwork/srv/dut/catalog.search#/metadata/6d8b8098-38b7-47ff-85fb-4a06c45d885d)\n",
    "* [CBS gebiedsindeling](https://www.pdok.nl/geo-services/-/article/cbs-gebiedsindelingen#4c8dfab50b5a0d7aafe8c6020a44bc0a)\n",
    "* [Download 2021](https://www.pdok.nl/downloads/-/article/cbs-gebiedsindelingen)"
   ]
  },
  {
   "cell_type": "code",
   "execution_count": null,
   "metadata": {},
   "outputs": [],
   "source": [
    "# # https://gis.stackexchange.com/questions/307749/open-gpkg-embedded-layers-in-python\n",
    "# import geopandas as gpd\n",
    "# filename = '~/example.gpkg'\n",
    "# gdf = gpd.read_file(filename)'\n",
    "# gdf = gpd.read_file(r'C:\\folder\\geopackage.gpkg', layer='somelayername')"
   ]
  },
  {
   "cell_type": "code",
   "execution_count": null,
   "metadata": {},
   "outputs": [],
   "source": [
    "# https://gis.stackexchange.com/questions/342855/reading-geopackage-geometries-in-python\n",
    "import fiona\n",
    "\n",
    "# No need to pass \"layer='etc'\" if there's only one layer\n",
    "with fiona.open('test.gpkg', layer='layer_of_interest') as layer:\n",
    "    for feature in layer:\n",
    "        print(feature['geometry'])"
   ]
  }
 ],
 "metadata": {
  "kernelspec": {
   "display_name": "Python 3",
   "language": "python",
   "name": "python3"
  },
  "language_info": {
   "codemirror_mode": {
    "name": "ipython",
    "version": 3
   },
   "file_extension": ".py",
   "mimetype": "text/x-python",
   "name": "python",
   "nbconvert_exporter": "python",
   "pygments_lexer": "ipython3",
   "version": "3.7.3"
  },
  "toc": {
   "base_numbering": 1,
   "nav_menu": {},
   "number_sections": true,
   "sideBar": true,
   "skip_h1_title": false,
   "title_cell": "Table of Contents",
   "title_sidebar": "Contents",
   "toc_cell": false,
   "toc_position": {},
   "toc_section_display": true,
   "toc_window_display": false
  }
 },
 "nbformat": 4,
 "nbformat_minor": 4
}
