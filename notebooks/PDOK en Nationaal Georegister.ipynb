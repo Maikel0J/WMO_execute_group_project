{
 "cells": [
  {
   "cell_type": "markdown",
   "metadata": {},
   "source": [
    "# PDOK\n",
    "\n",
    "* [Restful-api BAG](https://www.pdok.nl/restful-api/-/article/basisregistratie-adressen-en-gebouwen-ba-1#)\n",
    "* [Python voorbeeld kadastrale kaart](https://geoforum.nl/t/kadastrale-kaart-amsterdam-downloaden-met-python/4276/5)\n",
    "* [Kwetsbare objecten](https://www.nationaalgeoregister.nl/geonetwork/srv/dut/catalog.search#/metadata/6d8b8098-38b7-47ff-85fb-4a06c45d885d)"
   ]
  },
  {
   "cell_type": "code",
   "execution_count": null,
   "metadata": {},
   "outputs": [],
   "source": []
  }
 ],
 "metadata": {
  "kernelspec": {
   "display_name": "Python 3",
   "language": "python",
   "name": "python3"
  },
  "language_info": {
   "codemirror_mode": {
    "name": "ipython",
    "version": 3
   },
   "file_extension": ".py",
   "mimetype": "text/x-python",
   "name": "python",
   "nbconvert_exporter": "python",
   "pygments_lexer": "ipython3",
   "version": "3.7.3"
  },
  "toc": {
   "base_numbering": 1,
   "nav_menu": {},
   "number_sections": true,
   "sideBar": true,
   "skip_h1_title": false,
   "title_cell": "Table of Contents",
   "title_sidebar": "Contents",
   "toc_cell": false,
   "toc_position": {},
   "toc_section_display": true,
   "toc_window_display": false
  }
 },
 "nbformat": 4,
 "nbformat_minor": 4
}
